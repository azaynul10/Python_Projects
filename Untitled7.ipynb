{
 "cells": [
  {
   "cell_type": "code",
   "execution_count": null,
   "id": "2e10cbbc",
   "metadata": {},
   "outputs": [],
   "source": [
    "plural_noun = input('Choose a noun which is plural : ')\n",
    "place = input('Name a place: ')\n",
    "noun = input('Choose a noun: ')\n",
    "plural_noun2 = input('Choose a noun which is plural : ')\n",
    "noun2 = input('Choose another noun: ')\n",
    "adjective = input('Choose an adjective (Describing word): ')\n",
    "verb= input('Choose a verb: ')\n",
    "number=float(input('Choose a number: '))\n",
    "adjective = input('Choose another adjective (Describing word): ')\n",
    "body_part=input('Choose a body part: ')\n",
    "verb= input('Choose another verb: ')\n",
    "# Print a story from the user input\n",
    "\n",
    "print('------------------------------------------')\n",
    "\n",
    "print(f'Two {plural_noun} both alike in dignity,')\n",
    "\n",
    "print(f'In fair {place}, where we lay our scene,')\n",
    "\n",
    "print(f'From ancient {noun} break to new mutiny')\n",
    "\n",
    "print('Where civil blood makes civil hands unclean.')\n",
    "\n",
    "print('From forth the fatal loins of these two foes')\n",
    "\n",
    "print(f'A pair of star-cross`d {plural_noun2} take their life;')\n",
    "\n",
    "print('Whole misadventured piteous overthrows')\n",
    "\n",
    "print(f'Do with their {noun2} bury their parents` strife.')\n",
    "\n",
    "print(f'The fearful passage of their {adjective} love,')\n",
    "\n",
    "print('And the continuance of their parents` rage,')\n",
    "\n",
    "print('Which, but their children`s end, nought could Impart,')\n",
    "\n",
    "print(f'Is now the {number} hours` traffic of our stage;')\n",
    "\n",
    "print(f'The which if you with {adjective} {body_part} attend,')\n",
    "\n",
    "print(f'What here shall {verb}, our toil shall strive to mend.')\n",
    "\n",
    "print('------------------------------------------')"
   ]
  },
  {
   "cell_type": "code",
   "execution_count": null,
   "id": "dad26106",
   "metadata": {},
   "outputs": [],
   "source": []
  },
  {
   "cell_type": "code",
   "execution_count": null,
   "id": "e234cf5b",
   "metadata": {},
   "outputs": [],
   "source": []
  },
  {
   "cell_type": "code",
   "execution_count": null,
   "id": "070e8556",
   "metadata": {},
   "outputs": [],
   "source": []
  }
 ],
 "metadata": {
  "kernelspec": {
   "display_name": "Python 3 (ipykernel)",
   "language": "python",
   "name": "python3"
  },
  "language_info": {
   "codemirror_mode": {
    "name": "ipython",
    "version": 3
   },
   "file_extension": ".py",
   "mimetype": "text/x-python",
   "name": "python",
   "nbconvert_exporter": "python",
   "pygments_lexer": "ipython3",
   "version": "3.9.13"
  }
 },
 "nbformat": 4,
 "nbformat_minor": 5
}
