{
  "cells": [
    {
      "cell_type": "markdown",
      "metadata": {
        "id": "view-in-github",
        "colab_type": "text"
      },
      "source": [
        "<a href=\"https://colab.research.google.com/github/azaynul10/Python_Projects/blob/main/Number_guessing_game.ipynb\" target=\"_parent\"><img src=\"https://colab.research.google.com/assets/colab-badge.svg\" alt=\"Open In Colab\"/></a>"
      ]
    },
    {
      "cell_type": "code",
      "execution_count": null,
      "metadata": {
        "colab": {
          "background_save": true,
          "base_uri": "https://localhost:8080/"
        },
        "id": "ExbvxYtKFOmv",
        "outputId": "4dd4373f-5ac2-4043-c8ff-ad4852dc081d"
      },
      "outputs": [
        {
          "name": "stdout",
          "output_type": "stream",
          "text": [
            "Hello traveler! Welcome to the game of guesses!\n",
            "There is currently no high score, it's yours for the taking!\n",
            "It's lower\n",
            "It's lower\n",
            "It's lower\n",
            "It's lower\n",
            "It's lower\n",
            "Nice! You got it!\n",
            "It took you 6 attempts\n"
          ]
        }
      ],
      "source": [
        "'''\n",
        "Number Guessing Game\n",
        "-------------------------------------------------------------\n",
        "'''\n",
        "\n",
        "import random\n",
        "\n",
        "attempts_list = []\n",
        "\n",
        "\n",
        "def show_score():\n",
        "    if not attempts_list:\n",
        "        print('There is currently no high score,'\n",
        "              ' it\\'s yours for the taking!')\n",
        "\n",
        "    else:\n",
        "        print(f'The current high score is'\n",
        "              f' {min(attempts_list)} attempts')\n",
        "\n",
        "\n",
        "def start_game():\n",
        "    attempts = 0\n",
        "    rand_num = random.randint(1, 10)\n",
        "    print('Hello traveler! Welcome to the game of guesses!')\n",
        "    player_name = input('What is your name? ')\n",
        "    wanna_play = input(\n",
        "        f'Hi, {player_name}, would you like to play '\n",
        "        f'the guessing game? (Enter Yes/No): ')\n",
        "\n",
        "    if wanna_play.lower() != 'yes':\n",
        "        print('That\\'s cool, Thanks!')\n",
        "        exit()\n",
        "    else:\n",
        "        show_score()\n",
        "\n",
        "    while wanna_play.lower() == 'yes':\n",
        "        try:\n",
        "            guess = int(input('Pick a number between 1 and 10: '))\n",
        "            if guess < 1 or guess > 10:\n",
        "                raise ValueError(\n",
        "                    'Please guess a number within the given range')\n",
        "\n",
        "            attempts += 1\n",
        "            attempts_list.append(attempts)\n",
        "\n",
        "            if guess == rand_num:\n",
        "                print('Nice! You got it!')\n",
        "                print(f'It took you {attempts} attempts')\n",
        "                wanna_play = input(\n",
        "                    'Would you like to play again? (Enter Yes/No): ')\n",
        "                if wanna_play.lower() != 'yes':\n",
        "                    print('That\\'s cool, have a good one!')\n",
        "                    break\n",
        "                else:\n",
        "                    attempts = 0\n",
        "                    rand_num = random.randint(1, 10)\n",
        "                    show_score()\n",
        "                    continue\n",
        "            else:\n",
        "                if guess > rand_num:\n",
        "                    print('It\\'s lower')\n",
        "                elif guess < rand_num:\n",
        "                    print('It\\'s higher')\n",
        "\n",
        "        except ValueError as err:\n",
        "            print('Oh no!, that is not a valid value. Try again...')\n",
        "            print(err)\n",
        "\n",
        "\n",
        "if __name__ == '__main__':\n",
        "    start_game()"
      ]
    }
  ],
  "metadata": {
    "colab": {
      "provenance": [],
      "authorship_tag": "ABX9TyNt5pK9k+iDJ3pw0C23Ez9c",
      "include_colab_link": true
    },
    "kernelspec": {
      "display_name": "Python 3",
      "name": "python3"
    },
    "language_info": {
      "name": "python"
    }
  },
  "nbformat": 4,
  "nbformat_minor": 0
}