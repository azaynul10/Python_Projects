{
  "nbformat": 4,
  "nbformat_minor": 0,
  "metadata": {
    "colab": {
      "provenance": []
    },
    "kernelspec": {
      "name": "python3",
      "display_name": "Python 3"
    },
    "language_info": {
      "name": "python"
    }
  },
  "cells": [
    {
      "cell_type": "code",
      "execution_count": null,
      "metadata": {
        "id": "fI7IG8_VVOE9",
        "colab": {
          "base_uri": "https://localhost:8080/"
        },
        "outputId": "69d4f8e1-d523-45af-aa65-3f93df3830ba"
      },
      "outputs": [
        {
          "name": "stdout",
          "output_type": "stream",
          "text": [
            "Choose a noun which is plural : cashews\n"
          ]
        }
      ],
      "source": [
        "plural_noun = input('Choose a noun which is plural : ')\n",
        "place = input('Name a place: ')\n",
        "noun = input('Choose a noun: ')\n",
        "plural_noun2 = input('Choose a noun which is plural : ')\n",
        "noun2 = input('Choose another noun: ')\n",
        "adjective = input('Choose an adjective (Describing word): ')\n",
        "verb= input('Choose a verb: ')\n",
        "number=float(input('Choose a number: '))\n",
        "adjective = input('Choose another adjective (Describing word): ')\n",
        "body_part=input('Choose a body part: ')\n",
        "verb= input('Choose another verb: ')\n",
        "# Print a story from the user input\n",
        "\n",
        "print('------------------------------------------')\n",
        "\n",
        "print(f'Two {plural_noun} both alike in dignity,')\n",
        "\n",
        "print(f'In fair {place}, where we lay our scene,')\n",
        "\n",
        "print(f'From ancient {noun} break to new mutiny')\n",
        "\n",
        "print('Where civil blood makes civil hands unclean.')\n",
        "\n",
        "print('From forth the fatal loins of these two foes')\n",
        "\n",
        "print(f'A pair of star-cross`d {plural_noun2} take their life;')\n",
        "\n",
        "print('Whole misadventured piteous overthrows')\n",
        "\n",
        "print(f'Do with their {noun2} bury their parents` strife.')\n",
        "\n",
        "print(f'The fearful passage of their {adjective} love,')\n",
        "\n",
        "print('And the continuance of their parents` rage,')\n",
        "\n",
        "print('Which, but their children`s end, nought could Impart,')\n",
        "\n",
        "print(f'Is now the {number} hours` traffic of our stage;')\n",
        "\n",
        "print(f'The which if you with {adjective} {body_part} attend,')\n",
        "\n",
        "print(f'What here shall {verb}, our toil shall strive to mend.')\n",
        "\n",
        "print('------------------------------------------')"
      ]
    },
    {
      "cell_type": "code",
      "source": [],
      "metadata": {
        "id": "Mq5qTojMWhEa"
      },
      "execution_count": null,
      "outputs": []
    }
  ]
}