{
  "nbformat": 4,
  "nbformat_minor": 0,
  "metadata": {
    "colab": {
      "provenance": [],
      "authorship_tag": "ABX9TyOT4A6fIoSFp4D1Mge4TXVc",
      "include_colab_link": true
    },
    "kernelspec": {
      "name": "python3",
      "display_name": "Python 3"
    },
    "language_info": {
      "name": "python"
    }
  },
  "cells": [
    {
      "cell_type": "markdown",
      "metadata": {
        "id": "view-in-github",
        "colab_type": "text"
      },
      "source": [
        "<a href=\"https://colab.research.google.com/gist/azaynul10/1a228ca60faab44b6b70c98490d7b4fb/mad_lib_game.ipynb\" target=\"_parent\"><img src=\"https://colab.research.google.com/assets/colab-badge.svg\" alt=\"Open In Colab\"/></a>"
      ]
    },
    {
      "cell_type": "code",
      "execution_count": 1,
      "metadata": {
        "colab": {
          "base_uri": "https://localhost:8080/"
        },
        "id": "fI7IG8_VVOE9",
        "outputId": "86f68625-94f8-4697-bf16-97478004b4ec"
      },
      "outputs": [
        {
          "output_type": "stream",
          "name": "stdout",
          "text": [
            "Choose a noun which is plural : dryers\n",
            "Choose a noun: Egypt\n",
            "Name a place: ear\n",
            "Choose a noun which is plural : skins\n",
            "Choose another noun: padlock\n",
            "Choose an adjective (Describing word): physical\n",
            "Choose a verb: unpin\n",
            "Choose a number: 1\n",
            "Choose another adjective (Describing word): surprising\n",
            "Choose a body part: wing\n",
            "Choose another verb: delegate\n",
            "------------------------------------------\n",
            "Two dryers both alike in dignity,\n",
            "In fair Egypt, where we lay our scene,\n",
            "From ancient ear break to new mutiny\n",
            "Where civil blood makes civil hands unclean.\n",
            "From forth the fatal loins of these two foes\n",
            "A pair of star-cross`d skins take their life;\n",
            "Whole misadventured piteous overthrows\n",
            "Do with their padlock bury their parents` strife.\n",
            "The fearful passage of their surprising love,\n",
            "And the continuance of their parents` rage,\n",
            "Which, but their children`s end, nought could Impart,\n",
            "Is now the 1.0 hours` traffic of our stage;\n",
            "The which if you with surprising wing attend,\n",
            "What here shall delegate, our toil shall strive to mend.\n",
            "------------------------------------------\n"
          ]
        }
      ],
      "source": [
        "plural_noun = input('Choose a noun which is plural : ')\n",
        "noun = input('Choose a noun: ')\n",
        "place = input('Name a place: ')\n",
        "plural_noun2 = input('Choose a noun which is plural : ')\n",
        "noun2 = input('Choose another noun: ')\n",
        "adjective = input('Choose an adjective (Describing word): ')\n",
        "verb= input('Choose a verb: ')\n",
        "number=float(input('Choose a number: '))\n",
        "adjective = input('Choose another adjective (Describing word): ')\n",
        "body_part=input('Choose a body part: ')\n",
        "verb= input('Choose another verb: ')\n",
        "# Print a story from the user input\n",
        "\n",
        "print('------------------------------------------')\n",
        "\n",
        "print(f'Two {plural_noun} both alike in dignity,')\n",
        "\n",
        "print(f'In fair {noun}, where we lay our scene,')\n",
        "\n",
        "print(f'From ancient {place} break to new mutiny')\n",
        "\n",
        "print('Where civil blood makes civil hands unclean.')\n",
        "\n",
        "print('From forth the fatal loins of these two foes')\n",
        "\n",
        "print(f'A pair of star-cross`d {plural_noun2} take their life;')\n",
        "\n",
        "print('Whole misadventured piteous overthrows')\n",
        "\n",
        "print(f'Do with their {noun2} bury their parents` strife.')\n",
        "\n",
        "print(f'The fearful passage of their {adjective} love,')\n",
        "\n",
        "print('And the continuance of their parents` rage,')\n",
        "\n",
        "print('Which, but their children`s end, nought could Impart,')\n",
        "\n",
        "print(f'Is now the {number} hours` traffic of our stage;')\n",
        "\n",
        "print(f'The which if you with {adjective} {body_part} attend,')\n",
        "\n",
        "print(f'What here shall {verb}, our toil shall strive to mend.')\n",
        "\n",
        "print('------------------------------------------')"
      ]
    },
    {
      "cell_type": "code",
      "source": [],
      "metadata": {
        "id": "Mq5qTojMWhEa"
      },
      "execution_count": null,
      "outputs": []
    }
  ]
}